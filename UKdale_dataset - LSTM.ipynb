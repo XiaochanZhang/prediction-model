{
 "cells": [
  {
   "cell_type": "code",
   "execution_count": 1,
   "metadata": {},
   "outputs": [
    {
     "name": "stderr",
     "output_type": "stream",
     "text": [
      "F:\\Users\\Raven\\AppData\\Local\\Continuum\\anaconda3\\envs\\tf20\\lib\\importlib\\_bootstrap.py:219: RuntimeWarning: numpy.ufunc size changed, may indicate binary incompatibility. Expected 192 from C header, got 216 from PyObject\n",
      "  return f(*args, **kwds)\n"
     ]
    }
   ],
   "source": [
    "from nilmtk import DataSet, TimeFrame, MeterGroup, HDFDataStore\n",
    "from nilmtk.utils import print_dict\n",
    "\n",
    "from tensorflow import keras\n",
    "from tensorflow.keras import layers\n",
    "\n",
    "import pandas as pd\n",
    "import numpy as np\n",
    "import matplotlib.pyplot as plt\n",
    "from matplotlib import rcParams\n",
    "%matplotlib inline"
   ]
  },
  {
   "cell_type": "code",
   "execution_count": 2,
   "metadata": {},
   "outputs": [],
   "source": [
    "# rcParams['figure.figsize'] = (50,10)"
   ]
  },
  {
   "cell_type": "code",
   "execution_count": 3,
   "metadata": {},
   "outputs": [],
   "source": [
    "ukdale = DataSet('./dataset/ukdale.h5')"
   ]
  },
  {
   "cell_type": "code",
   "execution_count": 4,
   "metadata": {},
   "outputs": [
    {
     "data": {
      "text/html": [
       "<ul><li><strong>communal_boiler</strong>: True</li><li><strong>description_of_occupants</strong>: 2 adults</li><li><strong>original_name</strong>: house_5</li><li><strong>heating</strong>: <ul><li>natural gas</li></ul></li><li><strong>instance</strong>: 5</li><li><strong>building_type</strong>: flat</li><li><strong>ownership</strong>: bought</li><li><strong>timeframe</strong>: <ul><li><strong>start</strong>: 2014-06-29T17:23:48+01:00</li><li><strong>end</strong>: 2014-11-13T18:00:03+00:00</li></ul></li><li><strong>construction_year</strong>: 2009</li><li><strong>n_occupants</strong>: 2</li><li><strong>dataset</strong>: UK-DALE</li></ul>"
      ],
      "text/plain": [
       "<IPython.core.display.HTML object>"
      ]
     },
     "metadata": {},
     "output_type": "display_data"
    }
   ],
   "source": [
    "print_dict(ukdale.buildings[5].metadata)"
   ]
  },
  {
   "cell_type": "code",
   "execution_count": 5,
   "metadata": {},
   "outputs": [
    {
     "data": {
      "text/plain": [
       "MeterGroup(meters=\n",
       "  ElecMeter(instance=2, building=5, dataset='UK-DALE', appliances=[Appliance(type='active speaker', instance=1)])\n",
       "  ElecMeter(instance=3, building=5, dataset='UK-DALE', appliances=[Appliance(type='desktop computer', instance=1)])\n",
       "  ElecMeter(instance=4, building=5, dataset='UK-DALE', appliances=[Appliance(type='hair dryer', instance=1)])\n",
       "  ElecMeter(instance=5, building=5, dataset='UK-DALE', appliances=[Appliance(type='television', instance=1)])\n",
       "  ElecMeter(instance=6, building=5, dataset='UK-DALE', appliances=[Appliance(type='computer monitor', instance=1)])\n",
       "  ElecMeter(instance=7, building=5, dataset='UK-DALE', appliances=[Appliance(type='running machine', instance=1)])\n",
       "  ElecMeter(instance=8, building=5, dataset='UK-DALE', appliances=[Appliance(type='network attached storage', instance=1)])\n",
       "  ElecMeter(instance=9, building=5, dataset='UK-DALE', appliances=[Appliance(type='server computer', instance=1)])\n",
       "  ElecMeter(instance=10, building=5, dataset='UK-DALE', appliances=[Appliance(type='computer monitor', instance=2)])\n",
       "  ElecMeter(instance=11, building=5, dataset='UK-DALE', appliances=[Appliance(type='games console', instance=1)])\n",
       "  ElecMeter(instance=12, building=5, dataset='UK-DALE', appliances=[Appliance(type='clothes iron', instance=1)])\n",
       "  ElecMeter(instance=13, building=5, dataset='UK-DALE', appliances=[Appliance(type='coffee maker', instance=1)])\n",
       "  ElecMeter(instance=14, building=5, dataset='UK-DALE', appliances=[Appliance(type='desktop computer', instance=2)])\n",
       "  ElecMeter(instance=15, building=5, dataset='UK-DALE', appliances=[Appliance(type='toaster', instance=1)])\n",
       "  ElecMeter(instance=16, building=5, dataset='UK-DALE', appliances=[Appliance(type='audio amplifier', instance=1)])\n",
       "  ElecMeter(instance=17, building=5, dataset='UK-DALE', appliances=[Appliance(type='set top box', instance=1)])\n",
       "  ElecMeter(instance=18, building=5, dataset='UK-DALE', appliances=[Appliance(type='kettle', instance=1)])\n",
       "  ElecMeter(instance=19, building=5, dataset='UK-DALE', appliances=[Appliance(type='fridge freezer', instance=1)])\n",
       "  ElecMeter(instance=20, building=5, dataset='UK-DALE', appliances=[Appliance(type='electric oven', instance=1)])\n",
       "  ElecMeter(instance=21, building=5, dataset='UK-DALE', appliances=[Appliance(type='electric stove', instance=1)])\n",
       "  ElecMeter(instance=22, building=5, dataset='UK-DALE', appliances=[Appliance(type='dish washer', instance=1)])\n",
       "  ElecMeter(instance=23, building=5, dataset='UK-DALE', appliances=[Appliance(type='microwave', instance=1)])\n",
       "  ElecMeter(instance=24, building=5, dataset='UK-DALE', appliances=[Appliance(type='washer dryer', instance=1)])\n",
       "  ElecMeter(instance=25, building=5, dataset='UK-DALE', appliances=[Appliance(type='vacuum cleaner', instance=1)])\n",
       "  ElecMeter(instance=26, building=5, dataset='UK-DALE', site_meter, appliances=[])\n",
       ")"
      ]
     },
     "execution_count": 5,
     "metadata": {},
     "output_type": "execute_result"
    }
   ],
   "source": [
    "ukdale.set_window(start = \"2014-07-07\", end = \"2014-07-14\")\n",
    "\n",
    "elec = ukdale.buildings[5].elec\n",
    "elec"
   ]
  },
  {
   "cell_type": "code",
   "execution_count": 6,
   "metadata": {
    "scrolled": true
   },
   "outputs": [],
   "source": [
    "fridge = elec['fridge freezer']\n",
    "fridge.available_columns()\n",
    "fridge_df = next(fridge.load())"
   ]
  },
  {
   "cell_type": "code",
   "execution_count": 7,
   "metadata": {},
   "outputs": [
    {
     "data": {
      "text/html": [
       "<div>\n",
       "<style scoped>\n",
       "    .dataframe tbody tr th:only-of-type {\n",
       "        vertical-align: middle;\n",
       "    }\n",
       "\n",
       "    .dataframe tbody tr th {\n",
       "        vertical-align: top;\n",
       "    }\n",
       "\n",
       "    .dataframe thead tr th {\n",
       "        text-align: left;\n",
       "    }\n",
       "</style>\n",
       "<table border=\"1\" class=\"dataframe\">\n",
       "  <thead>\n",
       "    <tr>\n",
       "      <th>physical_quantity</th>\n",
       "      <th>power</th>\n",
       "    </tr>\n",
       "    <tr>\n",
       "      <th>type</th>\n",
       "      <th>active</th>\n",
       "    </tr>\n",
       "  </thead>\n",
       "  <tbody>\n",
       "    <tr>\n",
       "      <th>2014-07-07 00:00:03+01:00</th>\n",
       "      <td>110.0</td>\n",
       "    </tr>\n",
       "    <tr>\n",
       "      <th>2014-07-07 00:00:09+01:00</th>\n",
       "      <td>109.0</td>\n",
       "    </tr>\n",
       "    <tr>\n",
       "      <th>2014-07-07 00:00:15+01:00</th>\n",
       "      <td>110.0</td>\n",
       "    </tr>\n",
       "    <tr>\n",
       "      <th>2014-07-07 00:00:21+01:00</th>\n",
       "      <td>112.0</td>\n",
       "    </tr>\n",
       "    <tr>\n",
       "      <th>2014-07-07 00:00:27+01:00</th>\n",
       "      <td>112.0</td>\n",
       "    </tr>\n",
       "    <tr>\n",
       "      <th>2014-07-07 00:00:33+01:00</th>\n",
       "      <td>110.0</td>\n",
       "    </tr>\n",
       "    <tr>\n",
       "      <th>2014-07-07 00:00:39+01:00</th>\n",
       "      <td>109.0</td>\n",
       "    </tr>\n",
       "    <tr>\n",
       "      <th>2014-07-07 00:00:45+01:00</th>\n",
       "      <td>111.0</td>\n",
       "    </tr>\n",
       "    <tr>\n",
       "      <th>2014-07-07 00:00:51+01:00</th>\n",
       "      <td>112.0</td>\n",
       "    </tr>\n",
       "    <tr>\n",
       "      <th>2014-07-07 00:00:57+01:00</th>\n",
       "      <td>110.0</td>\n",
       "    </tr>\n",
       "    <tr>\n",
       "      <th>2014-07-07 00:01:03+01:00</th>\n",
       "      <td>109.0</td>\n",
       "    </tr>\n",
       "    <tr>\n",
       "      <th>2014-07-07 00:01:09+01:00</th>\n",
       "      <td>110.0</td>\n",
       "    </tr>\n",
       "    <tr>\n",
       "      <th>2014-07-07 00:01:15+01:00</th>\n",
       "      <td>112.0</td>\n",
       "    </tr>\n",
       "    <tr>\n",
       "      <th>2014-07-07 00:01:21+01:00</th>\n",
       "      <td>110.0</td>\n",
       "    </tr>\n",
       "    <tr>\n",
       "      <th>2014-07-07 00:01:27+01:00</th>\n",
       "      <td>109.0</td>\n",
       "    </tr>\n",
       "    <tr>\n",
       "      <th>2014-07-07 00:01:33+01:00</th>\n",
       "      <td>110.0</td>\n",
       "    </tr>\n",
       "    <tr>\n",
       "      <th>2014-07-07 00:01:39+01:00</th>\n",
       "      <td>111.0</td>\n",
       "    </tr>\n",
       "    <tr>\n",
       "      <th>2014-07-07 00:01:45+01:00</th>\n",
       "      <td>110.0</td>\n",
       "    </tr>\n",
       "    <tr>\n",
       "      <th>2014-07-07 00:01:51+01:00</th>\n",
       "      <td>109.0</td>\n",
       "    </tr>\n",
       "    <tr>\n",
       "      <th>2014-07-07 00:01:57+01:00</th>\n",
       "      <td>110.0</td>\n",
       "    </tr>\n",
       "    <tr>\n",
       "      <th>2014-07-07 00:02:03+01:00</th>\n",
       "      <td>112.0</td>\n",
       "    </tr>\n",
       "    <tr>\n",
       "      <th>2014-07-07 00:02:09+01:00</th>\n",
       "      <td>110.0</td>\n",
       "    </tr>\n",
       "    <tr>\n",
       "      <th>2014-07-07 00:02:15+01:00</th>\n",
       "      <td>109.0</td>\n",
       "    </tr>\n",
       "    <tr>\n",
       "      <th>2014-07-07 00:02:21+01:00</th>\n",
       "      <td>110.0</td>\n",
       "    </tr>\n",
       "    <tr>\n",
       "      <th>2014-07-07 00:02:27+01:00</th>\n",
       "      <td>111.0</td>\n",
       "    </tr>\n",
       "    <tr>\n",
       "      <th>2014-07-07 00:02:33+01:00</th>\n",
       "      <td>109.0</td>\n",
       "    </tr>\n",
       "    <tr>\n",
       "      <th>2014-07-07 00:02:39+01:00</th>\n",
       "      <td>110.0</td>\n",
       "    </tr>\n",
       "    <tr>\n",
       "      <th>2014-07-07 00:02:45+01:00</th>\n",
       "      <td>112.0</td>\n",
       "    </tr>\n",
       "    <tr>\n",
       "      <th>2014-07-07 00:02:51+01:00</th>\n",
       "      <td>110.0</td>\n",
       "    </tr>\n",
       "    <tr>\n",
       "      <th>2014-07-07 00:02:57+01:00</th>\n",
       "      <td>109.0</td>\n",
       "    </tr>\n",
       "    <tr>\n",
       "      <th>...</th>\n",
       "      <td>...</td>\n",
       "    </tr>\n",
       "    <tr>\n",
       "      <th>2014-07-13 23:57:03+01:00</th>\n",
       "      <td>0.0</td>\n",
       "    </tr>\n",
       "    <tr>\n",
       "      <th>2014-07-13 23:57:09+01:00</th>\n",
       "      <td>0.0</td>\n",
       "    </tr>\n",
       "    <tr>\n",
       "      <th>2014-07-13 23:57:15+01:00</th>\n",
       "      <td>0.0</td>\n",
       "    </tr>\n",
       "    <tr>\n",
       "      <th>2014-07-13 23:57:21+01:00</th>\n",
       "      <td>0.0</td>\n",
       "    </tr>\n",
       "    <tr>\n",
       "      <th>2014-07-13 23:57:27+01:00</th>\n",
       "      <td>0.0</td>\n",
       "    </tr>\n",
       "    <tr>\n",
       "      <th>2014-07-13 23:57:33+01:00</th>\n",
       "      <td>0.0</td>\n",
       "    </tr>\n",
       "    <tr>\n",
       "      <th>2014-07-13 23:57:39+01:00</th>\n",
       "      <td>0.0</td>\n",
       "    </tr>\n",
       "    <tr>\n",
       "      <th>2014-07-13 23:57:45+01:00</th>\n",
       "      <td>0.0</td>\n",
       "    </tr>\n",
       "    <tr>\n",
       "      <th>2014-07-13 23:57:51+01:00</th>\n",
       "      <td>0.0</td>\n",
       "    </tr>\n",
       "    <tr>\n",
       "      <th>2014-07-13 23:57:57+01:00</th>\n",
       "      <td>0.0</td>\n",
       "    </tr>\n",
       "    <tr>\n",
       "      <th>2014-07-13 23:58:03+01:00</th>\n",
       "      <td>0.0</td>\n",
       "    </tr>\n",
       "    <tr>\n",
       "      <th>2014-07-13 23:58:10+01:00</th>\n",
       "      <td>0.0</td>\n",
       "    </tr>\n",
       "    <tr>\n",
       "      <th>2014-07-13 23:58:16+01:00</th>\n",
       "      <td>0.0</td>\n",
       "    </tr>\n",
       "    <tr>\n",
       "      <th>2014-07-13 23:58:22+01:00</th>\n",
       "      <td>0.0</td>\n",
       "    </tr>\n",
       "    <tr>\n",
       "      <th>2014-07-13 23:58:28+01:00</th>\n",
       "      <td>0.0</td>\n",
       "    </tr>\n",
       "    <tr>\n",
       "      <th>2014-07-13 23:58:34+01:00</th>\n",
       "      <td>0.0</td>\n",
       "    </tr>\n",
       "    <tr>\n",
       "      <th>2014-07-13 23:58:40+01:00</th>\n",
       "      <td>0.0</td>\n",
       "    </tr>\n",
       "    <tr>\n",
       "      <th>2014-07-13 23:58:46+01:00</th>\n",
       "      <td>0.0</td>\n",
       "    </tr>\n",
       "    <tr>\n",
       "      <th>2014-07-13 23:58:52+01:00</th>\n",
       "      <td>0.0</td>\n",
       "    </tr>\n",
       "    <tr>\n",
       "      <th>2014-07-13 23:58:58+01:00</th>\n",
       "      <td>0.0</td>\n",
       "    </tr>\n",
       "    <tr>\n",
       "      <th>2014-07-13 23:59:04+01:00</th>\n",
       "      <td>0.0</td>\n",
       "    </tr>\n",
       "    <tr>\n",
       "      <th>2014-07-13 23:59:10+01:00</th>\n",
       "      <td>0.0</td>\n",
       "    </tr>\n",
       "    <tr>\n",
       "      <th>2014-07-13 23:59:16+01:00</th>\n",
       "      <td>0.0</td>\n",
       "    </tr>\n",
       "    <tr>\n",
       "      <th>2014-07-13 23:59:22+01:00</th>\n",
       "      <td>0.0</td>\n",
       "    </tr>\n",
       "    <tr>\n",
       "      <th>2014-07-13 23:59:28+01:00</th>\n",
       "      <td>0.0</td>\n",
       "    </tr>\n",
       "    <tr>\n",
       "      <th>2014-07-13 23:59:34+01:00</th>\n",
       "      <td>0.0</td>\n",
       "    </tr>\n",
       "    <tr>\n",
       "      <th>2014-07-13 23:59:40+01:00</th>\n",
       "      <td>0.0</td>\n",
       "    </tr>\n",
       "    <tr>\n",
       "      <th>2014-07-13 23:59:46+01:00</th>\n",
       "      <td>0.0</td>\n",
       "    </tr>\n",
       "    <tr>\n",
       "      <th>2014-07-13 23:59:52+01:00</th>\n",
       "      <td>0.0</td>\n",
       "    </tr>\n",
       "    <tr>\n",
       "      <th>2014-07-13 23:59:58+01:00</th>\n",
       "      <td>0.0</td>\n",
       "    </tr>\n",
       "  </tbody>\n",
       "</table>\n",
       "<p>98071 rows × 1 columns</p>\n",
       "</div>"
      ],
      "text/plain": [
       "physical_quantity          power\n",
       "type                      active\n",
       "2014-07-07 00:00:03+01:00  110.0\n",
       "2014-07-07 00:00:09+01:00  109.0\n",
       "2014-07-07 00:00:15+01:00  110.0\n",
       "2014-07-07 00:00:21+01:00  112.0\n",
       "2014-07-07 00:00:27+01:00  112.0\n",
       "...                          ...\n",
       "2014-07-13 23:59:34+01:00    0.0\n",
       "2014-07-13 23:59:40+01:00    0.0\n",
       "2014-07-13 23:59:46+01:00    0.0\n",
       "2014-07-13 23:59:52+01:00    0.0\n",
       "2014-07-13 23:59:58+01:00    0.0\n",
       "\n",
       "[98071 rows x 1 columns]"
      ]
     },
     "execution_count": 7,
     "metadata": {},
     "output_type": "execute_result"
    }
   ],
   "source": [
    "data = fridge_df\n",
    "data"
   ]
  },
  {
   "cell_type": "code",
   "execution_count": 8,
   "metadata": {},
   "outputs": [
    {
     "data": {
      "text/plain": [
       "((98071, 1), 98071)"
      ]
     },
     "execution_count": 8,
     "metadata": {},
     "output_type": "execute_result"
    }
   ],
   "source": [
    "data.shape, len(data)"
   ]
  },
  {
   "cell_type": "code",
   "execution_count": 9,
   "metadata": {},
   "outputs": [],
   "source": [
    "seq_length = 3*60*10\n",
    "delay = 60*5"
   ]
  },
  {
   "cell_type": "code",
   "execution_count": 10,
   "metadata": {},
   "outputs": [],
   "source": [
    "data_ = []\n",
    "for i in range(len(data)- seq_length - delay):\n",
    "    data_.append(data.iloc[i : i+seq_length +delay])"
   ]
  },
  {
   "cell_type": "code",
   "execution_count": 11,
   "metadata": {},
   "outputs": [
    {
     "data": {
      "text/plain": [
       "(2100, 1)"
      ]
     },
     "execution_count": 11,
     "metadata": {},
     "output_type": "execute_result"
    }
   ],
   "source": [
    "data_[0].shape"
   ]
  },
  {
   "cell_type": "code",
   "execution_count": 12,
   "metadata": {},
   "outputs": [],
   "source": [
    "data_ = np.array([df.values for df in data_])"
   ]
  },
  {
   "cell_type": "code",
   "execution_count": 13,
   "metadata": {},
   "outputs": [
    {
     "data": {
      "text/plain": [
       "(95971, 2100, 1)"
      ]
     },
     "execution_count": 13,
     "metadata": {},
     "output_type": "execute_result"
    }
   ],
   "source": [
    "data_.shape"
   ]
  },
  {
   "cell_type": "code",
   "execution_count": 14,
   "metadata": {},
   "outputs": [],
   "source": [
    "np.random.shuffle(data_)"
   ]
  },
  {
   "cell_type": "code",
   "execution_count": 15,
   "metadata": {},
   "outputs": [
    {
     "data": {
      "text/plain": [
       "((95971, 1800, 1), (95971,))"
      ]
     },
     "execution_count": 15,
     "metadata": {},
     "output_type": "execute_result"
    }
   ],
   "source": [
    "x = data_[:, :3*60*10, :]\n",
    "y = data_[:,-1, 0]\n",
    "x.shape, y.shape"
   ]
  },
  {
   "cell_type": "code",
   "execution_count": 16,
   "metadata": {},
   "outputs": [],
   "source": [
    "split_b = int(data_.shape[0]*0.8)"
   ]
  },
  {
   "cell_type": "code",
   "execution_count": 17,
   "metadata": {},
   "outputs": [
    {
     "data": {
      "text/plain": [
       "((76776, 1800, 1), (76776,), (19195, 1800, 1), (19195,))"
      ]
     },
     "execution_count": 17,
     "metadata": {},
     "output_type": "execute_result"
    }
   ],
   "source": [
    "train_x = x[ :split_b]\n",
    "train_y = y[ :split_b]\n",
    "test_x = x[split_b: ]\n",
    "test_y = y[split_b: ]\n",
    "train_x.shape, train_y.shape, test_x.shape, test_y.shape"
   ]
  },
  {
   "cell_type": "code",
   "execution_count": 18,
   "metadata": {},
   "outputs": [],
   "source": [
    "# mean = train_x.mean(axis = 0)\n",
    "# std = train_x.std(axis = 0)"
   ]
  },
  {
   "cell_type": "code",
   "execution_count": 19,
   "metadata": {},
   "outputs": [],
   "source": [
    "# train_x = (train_x - mean)/std\n",
    "# test_x = (test_x - mean)/std"
   ]
  },
  {
   "cell_type": "markdown",
   "metadata": {},
   "source": [
    "### LSTM"
   ]
  },
  {
   "cell_type": "code",
   "execution_count": 20,
   "metadata": {},
   "outputs": [],
   "source": [
    "model = keras.Sequential()\n",
    "model.add(layers.LSTM(32, input_shape=(train_x.shape[1:]), return_sequences=True))\n",
    "model.add(layers.LSTM(32))\n",
    "model.add(layers.Dense(1))"
   ]
  },
  {
   "cell_type": "code",
   "execution_count": 21,
   "metadata": {},
   "outputs": [
    {
     "name": "stdout",
     "output_type": "stream",
     "text": [
      "Model: \"sequential\"\n",
      "_________________________________________________________________\n",
      "Layer (type)                 Output Shape              Param #   \n",
      "=================================================================\n",
      "lstm (LSTM)                  (None, 1800, 32)          4352      \n",
      "_________________________________________________________________\n",
      "lstm_1 (LSTM)                (None, 32)                8320      \n",
      "_________________________________________________________________\n",
      "dense (Dense)                (None, 1)                 33        \n",
      "=================================================================\n",
      "Total params: 12,705\n",
      "Trainable params: 12,705\n",
      "Non-trainable params: 0\n",
      "_________________________________________________________________\n"
     ]
    }
   ],
   "source": [
    "model.summary()"
   ]
  },
  {
   "cell_type": "code",
   "execution_count": 22,
   "metadata": {},
   "outputs": [],
   "source": [
    "model.compile(optimizer='adam',\n",
    "             loss = 'mse',\n",
    "             metrics = ['mae'])"
   ]
  },
  {
   "cell_type": "code",
   "execution_count": 23,
   "metadata": {},
   "outputs": [
    {
     "name": "stdout",
     "output_type": "stream",
     "text": [
      "Train on 76776 samples, validate on 19195 samples\n",
      "Epoch 1/100\n",
      "76776/76776 [==============================] - 55s 721us/sample - loss: 3970.4341 - mae: 41.4752 - val_loss: 3691.3344 - val_mae: 42.4435\n",
      "Epoch 2/100\n",
      "76776/76776 [==============================] - 47s 614us/sample - loss: 3547.2344 - mae: 42.2786 - val_loss: 3402.7614 - val_mae: 41.9610\n",
      "Epoch 3/100\n",
      "76776/76776 [==============================] - 47s 607us/sample - loss: 3278.6746 - mae: 41.2266 - val_loss: 3155.1864 - val_mae: 40.7304\n",
      "Epoch 4/100\n",
      "76776/76776 [==============================] - 46s 605us/sample - loss: 3052.2031 - mae: 40.5902 - val_loss: 2949.4775 - val_mae: 40.2028\n",
      "Epoch 5/100\n",
      "76776/76776 [==============================] - 47s 608us/sample - loss: 2859.1258 - mae: 39.9647 - val_loss: 2770.1509 - val_mae: 39.7500\n",
      "Epoch 6/100\n",
      "76776/76776 [==============================] - 47s 609us/sample - loss: 2694.9079 - mae: 39.4262 - val_loss: 2621.5916 - val_mae: 39.1548\n",
      "Epoch 7/100\n",
      "76776/76776 [==============================] - 47s 607us/sample - loss: 2556.9656 - mae: 38.9807 - val_loss: 2493.9667 - val_mae: 38.7989\n",
      "Epoch 8/100\n",
      "76776/76776 [==============================] - 47s 606us/sample - loss: 2439.5942 - mae: 38.4874 - val_loss: 2388.8049 - val_mae: 38.2625\n",
      "Epoch 9/100\n",
      "76776/76776 [==============================] - 47s 612us/sample - loss: 2340.9554 - mae: 38.0347 - val_loss: 2303.3264 - val_mae: 37.7026\n",
      "Epoch 10/100\n",
      "76776/76776 [==============================] - 47s 607us/sample - loss: 2258.7000 - mae: 37.5581 - val_loss: 2228.0160 - val_mae: 37.3897\n",
      "Epoch 11/100\n",
      "76776/76776 [==============================] - 47s 617us/sample - loss: 2191.1147 - mae: 37.1909 - val_loss: 2180.7776 - val_mae: 37.5709\n",
      "Epoch 12/100\n",
      "76776/76776 [==============================] - 47s 617us/sample - loss: 2137.6489 - mae: 36.7883 - val_loss: 2116.0997 - val_mae: 36.6725\n",
      "Epoch 13/100\n",
      "76776/76776 [==============================] - 47s 618us/sample - loss: 2091.4002 - mae: 36.4422 - val_loss: 2078.1036 - val_mae: 36.1107\n",
      "Epoch 14/100\n",
      "76776/76776 [==============================] - 48s 621us/sample - loss: 2055.7994 - mae: 36.0713 - val_loss: 2046.8446 - val_mae: 36.3811\n",
      "Epoch 15/100\n",
      "76776/76776 [==============================] - 47s 615us/sample - loss: 2030.0784 - mae: 35.8201 - val_loss: 2025.0007 - val_mae: 35.9887\n",
      "Epoch 16/100\n",
      "76776/76776 [==============================] - 49s 639us/sample - loss: 2009.1329 - mae: 35.5673 - val_loss: 2005.9121 - val_mae: 35.6652\n",
      "Epoch 17/100\n",
      "76776/76776 [==============================] - 48s 625us/sample - loss: 1994.1520 - mae: 35.3483 - val_loss: 1994.0509 - val_mae: 35.2852\n",
      "Epoch 18/100\n",
      "76776/76776 [==============================] - 48s 629us/sample - loss: 1983.3532 - mae: 35.1348 - val_loss: 1984.4925 - val_mae: 34.9949\n",
      "Epoch 19/100\n",
      "76776/76776 [==============================] - 47s 614us/sample - loss: 1974.3560 - mae: 34.9333 - val_loss: 1978.2786 - val_mae: 34.8393\n",
      "Epoch 20/100\n",
      "76776/76776 [==============================] - 47s 617us/sample - loss: 1968.6527 - mae: 34.7847 - val_loss: 1973.4091 - val_mae: 34.7013\n",
      "Epoch 21/100\n",
      "76776/76776 [==============================] - 48s 622us/sample - loss: 1964.3974 - mae: 34.6087 - val_loss: 1974.9094 - val_mae: 34.6754\n",
      "Epoch 22/100\n",
      "76776/76776 [==============================] - 48s 629us/sample - loss: 1964.5420 - mae: 34.5743 - val_loss: 1968.8274 - val_mae: 34.3543\n",
      "Epoch 23/100\n",
      "76776/76776 [==============================] - 48s 620us/sample - loss: 1962.2073 - mae: 34.4868 - val_loss: 1966.7224 - val_mae: 34.3698\n",
      "Epoch 24/100\n",
      "76776/76776 [==============================] - 48s 623us/sample - loss: 1959.0773 - mae: 34.3654 - val_loss: 1967.5399 - val_mae: 34.4016\n",
      "Epoch 25/100\n",
      "76776/76776 [==============================] - 48s 624us/sample - loss: 1956.3901 - mae: 34.3392 - val_loss: 1964.4841 - val_mae: 34.4076\n",
      "Epoch 26/100\n",
      "76776/76776 [==============================] - 48s 628us/sample - loss: 1956.0070 - mae: 34.1986 - val_loss: 1961.7941 - val_mae: 34.5004\n",
      "Epoch 27/100\n",
      "76776/76776 [==============================] - 48s 619us/sample - loss: 1955.3725 - mae: 34.2070 - val_loss: 1963.6802 - val_mae: 34.5327\n",
      "Epoch 28/100\n",
      "76776/76776 [==============================] - 47s 616us/sample - loss: 1953.9659 - mae: 34.1678 - val_loss: 1962.8256 - val_mae: 34.1660\n",
      "Epoch 29/100\n",
      "76776/76776 [==============================] - 48s 619us/sample - loss: 1952.8226 - mae: 34.1574 - val_loss: 1960.3242 - val_mae: 33.9311\n",
      "Epoch 30/100\n",
      "76776/76776 [==============================] - 47s 616us/sample - loss: 1951.5112 - mae: 34.1292 - val_loss: 1960.6359 - val_mae: 33.7058\n",
      "Epoch 31/100\n",
      "76776/76776 [==============================] - 48s 621us/sample - loss: 1951.4677 - mae: 34.0816 - val_loss: 1959.1499 - val_mae: 33.7250\n",
      "Epoch 32/100\n",
      "76776/76776 [==============================] - 49s 632us/sample - loss: 1955.2476 - mae: 34.1601 - val_loss: 1959.7905 - val_mae: 33.9631\n",
      "Epoch 33/100\n",
      "76776/76776 [==============================] - 48s 627us/sample - loss: 1952.3296 - mae: 34.0651 - val_loss: 1959.4330 - val_mae: 34.4145\n",
      "Epoch 34/100\n",
      "76776/76776 [==============================] - 47s 616us/sample - loss: 1951.3233 - mae: 34.0650 - val_loss: 1957.5694 - val_mae: 34.0125\n",
      "Epoch 35/100\n",
      "76776/76776 [==============================] - 47s 618us/sample - loss: 1976.5568 - mae: 34.4845 - val_loss: 1967.9721 - val_mae: 34.5817\n",
      "Epoch 36/100\n",
      "76776/76776 [==============================] - 48s 625us/sample - loss: 1944.4818 - mae: 33.9054 - val_loss: 1935.1210 - val_mae: 34.0586\n",
      "Epoch 37/100\n",
      "76776/76776 [==============================] - 48s 619us/sample - loss: 1931.8339 - mae: 33.6184 - val_loss: 1923.2173 - val_mae: 33.4304\n",
      "Epoch 38/100\n",
      "76776/76776 [==============================] - 49s 633us/sample - loss: 1916.0303 - mae: 33.2922 - val_loss: 1927.0966 - val_mae: 33.9154\n",
      "Epoch 39/100\n",
      "76776/76776 [==============================] - 49s 638us/sample - loss: 1926.7178 - mae: 33.5676 - val_loss: 1919.1844 - val_mae: 33.1259\n",
      "Epoch 40/100\n",
      "76776/76776 [==============================] - 49s 641us/sample - loss: 1910.7431 - mae: 33.1063 - val_loss: 1930.7398 - val_mae: 33.6685\n",
      "Epoch 41/100\n",
      "76776/76776 [==============================] - 48s 620us/sample - loss: 1910.2340 - mae: 33.2776 - val_loss: 1915.0225 - val_mae: 32.8663\n",
      "Epoch 42/100\n",
      "76776/76776 [==============================] - 47s 613us/sample - loss: 1907.8188 - mae: 33.1544 - val_loss: 1926.6182 - val_mae: 32.3422\n",
      "Epoch 43/100\n",
      "76776/76776 [==============================] - 47s 612us/sample - loss: 1907.7476 - mae: 33.1795 - val_loss: 1915.7647 - val_mae: 32.9044\n",
      "Epoch 44/100\n",
      "76776/76776 [==============================] - 47s 613us/sample - loss: 1907.3973 - mae: 33.1324 - val_loss: 1905.8976 - val_mae: 32.7548\n",
      "Epoch 45/100\n",
      "76776/76776 [==============================] - 47s 610us/sample - loss: 1909.7619 - mae: 33.1426 - val_loss: 1902.1627 - val_mae: 32.9603\n",
      "Epoch 46/100\n",
      "76776/76776 [==============================] - 47s 612us/sample - loss: 1902.5719 - mae: 33.1609 - val_loss: 1923.3517 - val_mae: 33.4313\n",
      "Epoch 47/100\n",
      "76776/76776 [==============================] - 47s 612us/sample - loss: 1902.9377 - mae: 33.1721 - val_loss: 1894.8786 - val_mae: 33.0471\n",
      "Epoch 48/100\n",
      "76776/76776 [==============================] - 48s 620us/sample - loss: 1892.8262 - mae: 32.9848 - val_loss: 1891.5887 - val_mae: 33.1674\n",
      "Epoch 49/100\n",
      "76776/76776 [==============================] - 48s 619us/sample - loss: 1889.5122 - mae: 32.9090 - val_loss: 1894.5965 - val_mae: 32.5781\n",
      "Epoch 50/100\n",
      "76776/76776 [==============================] - 48s 623us/sample - loss: 1889.6029 - mae: 32.9287 - val_loss: 1892.6201 - val_mae: 32.7723\n",
      "Epoch 51/100\n",
      "76776/76776 [==============================] - 47s 608us/sample - loss: 1887.6589 - mae: 32.8437 - val_loss: 1889.2640 - val_mae: 32.7505\n",
      "Epoch 52/100\n",
      "76776/76776 [==============================] - 48s 623us/sample - loss: 1887.7305 - mae: 32.9280 - val_loss: 1890.3409 - val_mae: 33.0864\n",
      "Epoch 53/100\n",
      "76776/76776 [==============================] - 50s 647us/sample - loss: 1887.7953 - mae: 32.8837 - val_loss: 1888.6285 - val_mae: 32.9898\n",
      "Epoch 54/100\n",
      "76776/76776 [==============================] - 49s 641us/sample - loss: 1883.2728 - mae: 32.7849 - val_loss: 1884.2480 - val_mae: 32.8773\n"
     ]
    },
    {
     "name": "stdout",
     "output_type": "stream",
     "text": [
      "Epoch 55/100\n",
      "76776/76776 [==============================] - 50s 646us/sample - loss: 1885.5560 - mae: 32.8494 - val_loss: 1891.9444 - val_mae: 32.8753\n",
      "Epoch 56/100\n",
      "76776/76776 [==============================] - 48s 626us/sample - loss: 1883.1361 - mae: 32.8338 - val_loss: 1886.8006 - val_mae: 32.5318\n",
      "Epoch 57/100\n",
      "76776/76776 [==============================] - 48s 624us/sample - loss: 1881.6563 - mae: 32.7171 - val_loss: 1904.8162 - val_mae: 32.6264\n",
      "Epoch 58/100\n",
      "76776/76776 [==============================] - 48s 620us/sample - loss: 1884.3548 - mae: 32.7829 - val_loss: 1889.7127 - val_mae: 32.9199\n",
      "Epoch 59/100\n",
      "76776/76776 [==============================] - 48s 622us/sample - loss: 1879.2474 - mae: 32.7065 - val_loss: 1882.6364 - val_mae: 33.2909\n",
      "Epoch 60/100\n",
      "76776/76776 [==============================] - 48s 624us/sample - loss: 1865.2242 - mae: 32.6729 - val_loss: 1771.7028 - val_mae: 31.8243\n",
      "Epoch 61/100\n",
      "76776/76776 [==============================] - 48s 629us/sample - loss: 1797.1093 - mae: 32.2236 - val_loss: 1882.9008 - val_mae: 33.0129\n",
      "Epoch 62/100\n",
      "76776/76776 [==============================] - 48s 620us/sample - loss: 1750.4776 - mae: 31.1337 - val_loss: 1642.1086 - val_mae: 29.9708\n",
      "Epoch 63/100\n",
      "76776/76776 [==============================] - 48s 620us/sample - loss: 1597.4764 - mae: 29.7008 - val_loss: 1537.1094 - val_mae: 28.8826\n",
      "Epoch 64/100\n",
      "76776/76776 [==============================] - 48s 625us/sample - loss: 1592.4174 - mae: 29.7993 - val_loss: 1592.3554 - val_mae: 29.4042\n",
      "Epoch 65/100\n",
      "76776/76776 [==============================] - 48s 621us/sample - loss: 1457.5275 - mae: 27.6199 - val_loss: 1487.7289 - val_mae: 28.4917\n",
      "Epoch 66/100\n",
      "76776/76776 [==============================] - 48s 619us/sample - loss: 1347.0393 - mae: 26.0404 - val_loss: 1279.0222 - val_mae: 24.4009\n",
      "Epoch 67/100\n",
      "76776/76776 [==============================] - 48s 620us/sample - loss: 1291.8083 - mae: 24.4968 - val_loss: 1268.3338 - val_mae: 23.7048\n",
      "Epoch 68/100\n",
      "76776/76776 [==============================] - 47s 612us/sample - loss: 1259.5956 - mae: 23.3680 - val_loss: 1220.0368 - val_mae: 22.2575\n",
      "Epoch 69/100\n",
      "76776/76776 [==============================] - 47s 611us/sample - loss: 1226.1874 - mae: 22.1266 - val_loss: 1215.8976 - val_mae: 21.7535\n",
      "Epoch 70/100\n",
      "76776/76776 [==============================] - 47s 609us/sample - loss: 1210.8089 - mae: 21.6322 - val_loss: 1185.6731 - val_mae: 21.2298\n",
      "Epoch 71/100\n",
      "76776/76776 [==============================] - 47s 612us/sample - loss: 1183.6588 - mae: 20.8526 - val_loss: 1128.9221 - val_mae: 19.3800\n",
      "Epoch 72/100\n",
      "76776/76776 [==============================] - 47s 613us/sample - loss: 1118.3936 - mae: 19.6205 - val_loss: 1069.5870 - val_mae: 18.6284\n",
      "Epoch 73/100\n",
      "76776/76776 [==============================] - 47s 611us/sample - loss: 1208.1048 - mae: 20.6913 - val_loss: 2155.7136 - val_mae: 37.4176\n",
      "Epoch 74/100\n",
      "76776/76776 [==============================] - 47s 612us/sample - loss: 1943.0491 - mae: 33.8966 - val_loss: 1915.7599 - val_mae: 33.2678\n",
      "Epoch 75/100\n",
      "76776/76776 [==============================] - 47s 611us/sample - loss: 1891.9446 - mae: 33.0937 - val_loss: 1876.4508 - val_mae: 33.0169\n",
      "Epoch 76/100\n",
      "76776/76776 [==============================] - 47s 608us/sample - loss: 1476.1721 - mae: 27.5098 - val_loss: 1182.7026 - val_mae: 22.5763\n",
      "Epoch 77/100\n",
      "76776/76776 [==============================] - 47s 612us/sample - loss: 1332.8714 - mae: 24.5747 - val_loss: 1250.3200 - val_mae: 22.8256\n",
      "Epoch 78/100\n",
      "76776/76776 [==============================] - 47s 612us/sample - loss: 1199.2463 - mae: 22.2610 - val_loss: 1137.4177 - val_mae: 20.9175\n",
      "Epoch 79/100\n",
      "76776/76776 [==============================] - 47s 610us/sample - loss: 1191.0103 - mae: 21.5472 - val_loss: 1098.7919 - val_mae: 20.4127\n",
      "Epoch 80/100\n",
      "76776/76776 [==============================] - 47s 614us/sample - loss: 1128.8623 - mae: 20.4206 - val_loss: 1068.6903 - val_mae: 19.2937\n",
      "Epoch 81/100\n",
      "76776/76776 [==============================] - 47s 611us/sample - loss: 1064.7878 - mae: 19.1546 - val_loss: 1011.7827 - val_mae: 18.1758\n",
      "Epoch 82/100\n",
      "76776/76776 [==============================] - 47s 613us/sample - loss: 1004.6843 - mae: 17.8133 - val_loss: 990.9535 - val_mae: 17.1692\n",
      "Epoch 83/100\n",
      "76776/76776 [==============================] - 47s 613us/sample - loss: 1000.1895 - mae: 17.4793 - val_loss: 954.7141 - val_mae: 16.3256\n",
      "Epoch 84/100\n",
      "76776/76776 [==============================] - 47s 614us/sample - loss: 1041.0056 - mae: 17.5675 - val_loss: 1017.4860 - val_mae: 17.3129\n",
      "Epoch 85/100\n",
      "76776/76776 [==============================] - 47s 612us/sample - loss: 1669.5294 - mae: 24.0747 - val_loss: 2282.9616 - val_mae: 30.9557\n",
      "Epoch 86/100\n",
      "76776/76776 [==============================] - 47s 610us/sample - loss: 1940.7302 - mae: 31.1462 - val_loss: 1635.4109 - val_mae: 29.8802\n",
      "Epoch 87/100\n",
      "76776/76776 [==============================] - 47s 611us/sample - loss: 1427.9693 - mae: 27.2171 - val_loss: 1288.8459 - val_mae: 25.2424\n",
      "Epoch 88/100\n",
      "76776/76776 [==============================] - 47s 607us/sample - loss: 1255.0111 - mae: 23.5630 - val_loss: 1205.3611 - val_mae: 22.8323\n",
      "Epoch 89/100\n",
      "76776/76776 [==============================] - 47s 609us/sample - loss: 1204.8539 - mae: 22.0500 - val_loss: 1163.9265 - val_mae: 21.3072\n",
      "Epoch 90/100\n",
      "76776/76776 [==============================] - 47s 612us/sample - loss: 1172.9955 - mae: 21.2785 - val_loss: 1152.7013 - val_mae: 20.9711\n",
      "Epoch 91/100\n",
      "76776/76776 [==============================] - 47s 610us/sample - loss: 1159.5759 - mae: 20.8961 - val_loss: 1126.5161 - val_mae: 20.2505\n",
      "Epoch 92/100\n",
      "76776/76776 [==============================] - 47s 613us/sample - loss: 1122.8722 - mae: 20.1658 - val_loss: 1094.5081 - val_mae: 19.6914\n",
      "Epoch 93/100\n",
      "76776/76776 [==============================] - 47s 613us/sample - loss: 1104.8100 - mae: 19.6911 - val_loss: 1044.2371 - val_mae: 19.1834\n",
      "Epoch 94/100\n",
      "76776/76776 [==============================] - 47s 610us/sample - loss: 1034.0657 - mae: 18.5059 - val_loss: 998.2380 - val_mae: 17.4038\n",
      "Epoch 95/100\n",
      "76776/76776 [==============================] - 47s 611us/sample - loss: 1008.5363 - mae: 17.6060 - val_loss: 1012.8380 - val_mae: 16.6051\n",
      "Epoch 96/100\n",
      "76776/76776 [==============================] - 47s 611us/sample - loss: 1003.0245 - mae: 17.3787 - val_loss: 1042.1039 - val_mae: 17.8197\n",
      "Epoch 97/100\n",
      "76776/76776 [==============================] - 47s 610us/sample - loss: 975.9200 - mae: 16.8059 - val_loss: 941.9453 - val_mae: 16.4253\n",
      "Epoch 98/100\n",
      "76776/76776 [==============================] - 47s 608us/sample - loss: 2037.5804 - mae: 30.6507 - val_loss: 2323.7937 - val_mae: 38.0073\n",
      "Epoch 99/100\n",
      "76776/76776 [==============================] - 47s 615us/sample - loss: 2080.0359 - mae: 35.6672 - val_loss: 1882.0314 - val_mae: 33.5033\n",
      "Epoch 100/100\n",
      "76776/76776 [==============================] - 47s 613us/sample - loss: 1704.1288 - mae: 31.2145 - val_loss: 1568.1434 - val_mae: 29.1578\n"
     ]
    }
   ],
   "source": [
    "history = model.fit(train_x, train_y,\n",
    "                   batch_size = 512,\n",
    "                   epochs = 100,\n",
    "                   validation_data = (test_x, test_y))"
   ]
  },
  {
   "cell_type": "code",
   "execution_count": 24,
   "metadata": {},
   "outputs": [
    {
     "data": {
      "text/plain": [
       "<matplotlib.legend.Legend at 0x1ee5642ee10>"
      ]
     },
     "execution_count": 24,
     "metadata": {},
     "output_type": "execute_result"
    },
    {
     "data": {
      "image/png": "[encoded data removed]",
      "text/plain": [
       "<Figure size 432x288 with 1 Axes>"
      ]
     },
     "metadata": {
      "needs_background": "light"
     },
     "output_type": "display_data"
    }
   ],
   "source": [
    "plt.plot(history.epoch, history.history.get('loss'), label = \"training loss\")\n",
    "plt.plot(history.epoch, history.history.get('val_loss'), label = 'test lost')\n",
    "plt.legend()"
   ]
  },
  {
   "cell_type": "code",
   "execution_count": null,
   "metadata": {},
   "outputs": [],
   "source": []
  }
 ],
 "metadata": {
  "kernelspec": {
   "display_name": "Python 3",
   "language": "python",
   "name": "python3"
  },
  "language_info": {
   "codemirror_mode": {
    "name": "ipython",
    "version": 3
   },
   "file_extension": ".py",
   "mimetype": "text/x-python",
   "name": "python",
   "nbconvert_exporter": "python",
   "pygments_lexer": "ipython3",
   "version": "3.6.10"
  }
 },
 "nbformat": 4,
 "nbformat_minor": 4
}
